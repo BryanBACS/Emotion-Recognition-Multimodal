{
 "cells": [
  {
   "cell_type": "markdown",
   "metadata": {},
   "source": [
    "# Uso de la GPU"
   ]
  },
  {
   "cell_type": "code",
   "execution_count": 1,
   "metadata": {},
   "outputs": [
    {
     "name": "stdout",
     "output_type": "stream",
     "text": [
      "1 GPU(s) física(s), 1 GPU(s) lógica(s)\n"
     ]
    }
   ],
   "source": [
    "import tensorflow as tf\n",
    "\n",
    "gpus = tf.config.experimental.list_physical_devices('GPU')\n",
    "if gpus:\n",
    "    try:\n",
    "        for gpu in gpus:\n",
    "            tf.config.experimental.set_memory_growth(gpu, True)\n",
    "\n",
    "        logical_gpus = tf.config.experimental.list_logical_devices('GPU')\n",
    "        print(len(gpus), \"GPU(s) física(s),\", len(logical_gpus), \"GPU(s) lógica(s)\")\n",
    "        print(\"Funciona\")\n",
    "    except RuntimeError as e:\n",
    "        print(e)\n",
    "else:\n",
    "    print(\"Error\")\n"
   ]
  },
  {
   "cell_type": "code",
   "execution_count": 20,
   "metadata": {},
   "outputs": [
    {
     "name": "stdout",
     "output_type": "stream",
     "text": [
      "[PhysicalDevice(name='/physical_device:GPU:0', device_type='GPU')]\n"
     ]
    }
   ],
   "source": [
    "print(tf.config.list_physical_devices('GPU'))"
   ]
  },
  {
   "cell_type": "code",
   "execution_count": 9,
   "metadata": {},
   "outputs": [
    {
     "data": {
      "text/plain": [
       "'2.10.1'"
      ]
     },
     "execution_count": 9,
     "metadata": {},
     "output_type": "execute_result"
    }
   ],
   "source": [
    "tf.__version__"
   ]
  },
  {
   "cell_type": "markdown",
   "metadata": {},
   "source": [
    "# Pip install"
   ]
  },
  {
   "cell_type": "code",
   "execution_count": 8,
   "metadata": {},
   "outputs": [
    {
     "name": "stdout",
     "output_type": "stream",
     "text": [
      "Collecting tensorflow_addons\n",
      "  Using cached tensorflow_addons-0.22.0-cp310-cp310-win_amd64.whl.metadata (1.8 kB)\n",
      "Collecting typeguard<3.0.0,>=2.7 (from tensorflow_addons)\n",
      "  Downloading typeguard-2.13.3-py3-none-any.whl.metadata (3.6 kB)\n",
      "Requirement already satisfied: packaging in c:\\users\\bryan\\anaconda3\\envs\\gputensorflow\\lib\\site-packages (from tensorflow_addons) (24.0)\n",
      "Using cached tensorflow_addons-0.22.0-cp310-cp310-win_amd64.whl (719 kB)\n",
      "Using cached typeguard-2.13.3-py3-none-any.whl (17 kB)\n",
      "Installing collected packages: typeguard, tensorflow_addons\n",
      "Successfully installed tensorflow_addons-0.22.0 typeguard-2.13.3\n",
      "Note: you may need to restart the kernel to use updated packages.\n"
     ]
    }
   ],
   "source": [
    "pip install tensorflow_addons"
   ]
  },
  {
   "cell_type": "code",
   "execution_count": 5,
   "metadata": {},
   "outputs": [
    {
     "name": "stdout",
     "output_type": "stream",
     "text": [
      "Collecting vit-keras\n",
      "  Downloading vit_keras-0.1.2-py3-none-any.whl.metadata (4.0 kB)\n",
      "Requirement already satisfied: scipy in c:\\users\\bryan\\anaconda3\\envs\\gputensorflow\\lib\\site-packages (from vit-keras) (1.12.0)\n",
      "Collecting validators (from vit-keras)\n",
      "  Downloading validators-0.24.0-py3-none-any.whl.metadata (3.6 kB)\n",
      "Requirement already satisfied: numpy<1.29.0,>=1.22.4 in c:\\users\\bryan\\anaconda3\\envs\\gputensorflow\\lib\\site-packages (from scipy->vit-keras) (1.26.4)\n",
      "Using cached vit_keras-0.1.2-py3-none-any.whl (24 kB)\n",
      "Downloading validators-0.24.0-py3-none-any.whl (27 kB)\n",
      "Installing collected packages: validators, vit-keras\n",
      "Successfully installed validators-0.24.0 vit-keras-0.1.2\n",
      "Note: you may need to restart the kernel to use updated packages.\n"
     ]
    }
   ],
   "source": [
    "pip install vit-keras"
   ]
  },
  {
   "cell_type": "code",
   "execution_count": 12,
   "metadata": {},
   "outputs": [
    {
     "name": "stdout",
     "output_type": "stream",
     "text": [
      "Collecting opencv-python\n",
      "  Using cached opencv_python-4.9.0.80-cp37-abi3-win_amd64.whl.metadata (20 kB)\n",
      "Requirement already satisfied: numpy>=1.21.2 in c:\\users\\bryan\\anaconda3\\envs\\gputensorflow\\lib\\site-packages (from opencv-python) (1.26.4)\n",
      "Using cached opencv_python-4.9.0.80-cp37-abi3-win_amd64.whl (38.6 MB)\n",
      "Installing collected packages: opencv-python\n",
      "Successfully installed opencv-python-4.9.0.80\n",
      "Note: you may need to restart the kernel to use updated packages.\n"
     ]
    }
   ],
   "source": [
    "pip install opencv-python"
   ]
  },
  {
   "cell_type": "markdown",
   "metadata": {},
   "source": [
    "# Imports"
   ]
  },
  {
   "cell_type": "code",
   "execution_count": 13,
   "metadata": {},
   "outputs": [],
   "source": [
    "import os \n",
    "import requests\n",
    "from zipfile import ZipFile \n",
    "import shutil \n",
    "import pandas as pd \n",
    "from imblearn.over_sampling import RandomOverSampler \n",
    "from sklearn.model_selection import train_test_split \n",
    "from collections import Counter \n",
    "from keras.preprocessing.image import ImageDataGenerator \n",
    "import numpy as np \n",
    "import matplotlib.pyplot as plt \n",
    "from keras.preprocessing import image \n",
    "from keras.callbacks import ModelCheckpoint \n",
    "from datetime import datetime \n",
    "from tensorflow.keras.callbacks import TensorBoard \n",
    "from keras.applications import InceptionResNetV2 \n",
    "from keras.models import Sequential, Model \n",
    "from keras.layers import Dense, GlobalAveragePooling2D, Dropout,MaxPooling2D \n",
    "import PIL\n",
    "\n",
    "from keras.applications import EfficientNetB0\n",
    "from keras.layers import BatchNormalization, Dropout, Dense, Conv2D, MaxPooling2D, GlobalMaxPooling2D,GlobalAveragePooling2D, Input\n",
    "from keras.models import Model\n",
    "from keras.regularizers import L2\n",
    "from keras.callbacks import EarlyStopping, ModelCheckpoint, TensorBoard\n",
    "\n",
    "\n",
    "import pandas as pd\n",
    "import tensorflow_addons\n",
    "from vit_keras import vit \n",
    "from keras.preprocessing.image import ImageDataGenerator\n",
    "import matplotlib.pyplot as plt\n",
    "import numpy as np\n",
    "import os\n",
    "from sklearn.model_selection import train_test_split\n",
    "import tensorflow as tf\n",
    "import tensorflow.keras.layers as L\n",
    "\n",
    "\n",
    "from tensorflow.keras.optimizers import Adam\n",
    "import seaborn as sns\n",
    "from sklearn.metrics import confusion_matrix, classification_report\n",
    " "
   ]
  },
  {
   "cell_type": "code",
   "execution_count": 14,
   "metadata": {},
   "outputs": [],
   "source": [
    "import random, os\n",
    "import numpy as np\n",
    "import tensorflow as tf\n",
    "\n",
    "def set_seed(seed=42):\n",
    "  np.random.seed(seed) \n",
    "  tf.random.set_seed(seed) \n",
    "  random.seed(seed)\n",
    "  os.environ['TF_DETERMINISTIC_OPS'] = \"1\"\n",
    "  os.environ['TF_CUDNN_DETERMINISM'] = \"1\"\n",
    "  os.environ['PYTHONHASHSEED'] = str(seed)\n",
    "\n",
    "set_seed()"
   ]
  },
  {
   "cell_type": "markdown",
   "metadata": {},
   "source": [
    "# Creación del dataframe mediante la ubicación y el label"
   ]
  },
  {
   "cell_type": "code",
   "execution_count": 15,
   "metadata": {},
   "outputs": [],
   "source": [
    "data_dir = 'data' #se define la ubicación de la carpeta de los datos\n",
    "filepath = [] #se define la lista donde van a estar todas las ubicaciones de cada imagen\n",
    "labels = [] #se define la lista donde va a estar todos los labels\n",
    "classes = os.listdir(data_dir) #lista las clases\n",
    "\n",
    "for classfolder in classes: #por cada clase\n",
    "    folderclass = os.path.join(data_dir, classfolder) #obtiene la ruta\n",
    "    file_list = os.listdir(folderclass) #ingresa y los lista\n",
    "    for files in file_list: #por cada archivo dentro de las clases\n",
    "      pathfile = os.path.join(folderclass,files) #obitene la ruta\n",
    "      filepath.append(pathfile) #ingresa el path del file en filepath\n",
    "      labels.append(classfolder) #ingresa el labels del file en labels\n",
    "\n",
    "\n",
    "\n",
    "traindataframe = pd.DataFrame({'filepath': filepath, 'labels':labels})\n",
    "#Se crea un dataframe que tenga una columna llamada filepath, donde va a tener la lista de las ubicaciones de las imagenes\n",
    "#Se crea una columna llamada labels que va a tener la lista de los labels de cada file (filepath)"
   ]
  },
  {
   "cell_type": "code",
   "execution_count": 19,
   "metadata": {},
   "outputs": [
    {
     "data": {
      "text/html": [
       "<div>\n",
       "<style scoped>\n",
       "    .dataframe tbody tr th:only-of-type {\n",
       "        vertical-align: middle;\n",
       "    }\n",
       "\n",
       "    .dataframe tbody tr th {\n",
       "        vertical-align: top;\n",
       "    }\n",
       "\n",
       "    .dataframe thead th {\n",
       "        text-align: right;\n",
       "    }\n",
       "</style>\n",
       "<table border=\"1\" class=\"dataframe\">\n",
       "  <thead>\n",
       "    <tr style=\"text-align: right;\">\n",
       "      <th></th>\n",
       "      <th>filepath</th>\n",
       "      <th>labels</th>\n",
       "    </tr>\n",
       "  </thead>\n",
       "  <tbody>\n",
       "    <tr>\n",
       "      <th>0</th>\n",
       "      <td>data\\angry\\aug_0_0.jpeg</td>\n",
       "      <td>angry</td>\n",
       "    </tr>\n",
       "    <tr>\n",
       "      <th>1</th>\n",
       "      <td>data\\angry\\aug_0_1.jpeg</td>\n",
       "      <td>angry</td>\n",
       "    </tr>\n",
       "    <tr>\n",
       "      <th>2</th>\n",
       "      <td>data\\angry\\aug_0_10.jpeg</td>\n",
       "      <td>angry</td>\n",
       "    </tr>\n",
       "    <tr>\n",
       "      <th>3</th>\n",
       "      <td>data\\angry\\aug_0_100.jpeg</td>\n",
       "      <td>angry</td>\n",
       "    </tr>\n",
       "    <tr>\n",
       "      <th>4</th>\n",
       "      <td>data\\angry\\aug_0_1000.jpeg</td>\n",
       "      <td>angry</td>\n",
       "    </tr>\n",
       "    <tr>\n",
       "      <th>...</th>\n",
       "      <td>...</td>\n",
       "      <td>...</td>\n",
       "    </tr>\n",
       "    <tr>\n",
       "      <th>59495</th>\n",
       "      <td>data\\surprise\\Training_99916297.jpg</td>\n",
       "      <td>surprise</td>\n",
       "    </tr>\n",
       "    <tr>\n",
       "      <th>59496</th>\n",
       "      <td>data\\surprise\\Training_99924420.jpg</td>\n",
       "      <td>surprise</td>\n",
       "    </tr>\n",
       "    <tr>\n",
       "      <th>59497</th>\n",
       "      <td>data\\surprise\\Training_99937001.jpg</td>\n",
       "      <td>surprise</td>\n",
       "    </tr>\n",
       "    <tr>\n",
       "      <th>59498</th>\n",
       "      <td>data\\surprise\\Training_99951755.jpg</td>\n",
       "      <td>surprise</td>\n",
       "    </tr>\n",
       "    <tr>\n",
       "      <th>59499</th>\n",
       "      <td>data\\surprise\\Training_99984132.jpg</td>\n",
       "      <td>surprise</td>\n",
       "    </tr>\n",
       "  </tbody>\n",
       "</table>\n",
       "<p>59500 rows × 2 columns</p>\n",
       "</div>"
      ],
      "text/plain": [
       "                                  filepath    labels\n",
       "0                  data\\angry\\aug_0_0.jpeg     angry\n",
       "1                  data\\angry\\aug_0_1.jpeg     angry\n",
       "2                 data\\angry\\aug_0_10.jpeg     angry\n",
       "3                data\\angry\\aug_0_100.jpeg     angry\n",
       "4               data\\angry\\aug_0_1000.jpeg     angry\n",
       "...                                    ...       ...\n",
       "59495  data\\surprise\\Training_99916297.jpg  surprise\n",
       "59496  data\\surprise\\Training_99924420.jpg  surprise\n",
       "59497  data\\surprise\\Training_99937001.jpg  surprise\n",
       "59498  data\\surprise\\Training_99951755.jpg  surprise\n",
       "59499  data\\surprise\\Training_99984132.jpg  surprise\n",
       "\n",
       "[59500 rows x 2 columns]"
      ]
     },
     "execution_count": 19,
     "metadata": {},
     "output_type": "execute_result"
    }
   ],
   "source": [
    "traindataframe"
   ]
  },
  {
   "cell_type": "markdown",
   "metadata": {},
   "source": [
    "# División del train, val y test"
   ]
  },
  {
   "cell_type": "code",
   "execution_count": 16,
   "metadata": {},
   "outputs": [
    {
     "data": {
      "text/plain": [
       "(                                 filepath    labels\n",
       " 29740    data\\happy\\Training_46880224.jpg     happy\n",
       " 43976            data\\sad\\aug_0_4725.jpeg       sad\n",
       " 10690        data\\disgust\\aug_0_3523.jpeg   disgust\n",
       " 42001  data\\neutral\\Training_91168774.jpg   neutral\n",
       " 49999      data\\sad\\Training_80899611.jpg       sad\n",
       " ...                                   ...       ...\n",
       " 52632       data\\surprise\\aug_0_3897.jpeg  surprise\n",
       " 38611  data\\neutral\\Training_28817271.jpg   neutral\n",
       " 27217    data\\happy\\Training_15365662.jpg     happy\n",
       " 43661            data\\sad\\aug_0_3893.jpeg       sad\n",
       " 30000    data\\happy\\Training_49997455.jpg     happy\n",
       " \n",
       " [42840 rows x 2 columns],\n",
       "                                filepath   labels\n",
       " 36975      data\\neutral\\aug_0_8518.jpeg  neutral\n",
       " 14171      data\\disgust\\aug_0_7487.jpeg  disgust\n",
       " 31440   data\\happy\\Training_6815367.jpg    happy\n",
       " 15978      data\\disgust\\aug_0_9549.jpeg  disgust\n",
       " 13398      data\\disgust\\aug_0_6605.jpeg  disgust\n",
       " ...                                 ...      ...\n",
       " 4492   data\\angry\\S502_001_00000016.png    angry\n",
       " 18175         data\\fear\\aug_0_3548.jpeg     fear\n",
       " 36939       data\\neutral\\aug_0_842.jpeg  neutral\n",
       " 13430      data\\disgust\\aug_0_6642.jpeg  disgust\n",
       " 31825  data\\happy\\Training_73051133.jpg    happy\n",
       " \n",
       " [5950 rows x 2 columns],\n",
       "                                   filepath    labels\n",
       " 30405     data\\happy\\Training_55289406.jpg     happy\n",
       " 53373        data\\surprise\\aug_0_5225.jpeg  surprise\n",
       " 18803            data\\fear\\aug_0_4889.jpeg      fear\n",
       " 58953  data\\surprise\\Training_84055668.jpg  surprise\n",
       " 36803         data\\neutral\\aug_0_8076.jpeg   neutral\n",
       " ...                                    ...       ...\n",
       " 35314          data\\neutral\\aug_0_437.jpeg   neutral\n",
       " 30831     data\\happy\\Training_60851505.jpg     happy\n",
       " 58285  data\\surprise\\Training_66005772.jpg  surprise\n",
       " 3321            data\\angry\\aug_0_7739.jpeg     angry\n",
       " 39717   data\\neutral\\Training_48938125.jpg   neutral\n",
       " \n",
       " [10710 rows x 2 columns])"
      ]
     },
     "execution_count": 16,
     "metadata": {},
     "output_type": "execute_result"
    }
   ],
   "source": [
    "#Se divide el dataset en train, test y val\n",
    "from sklearn.model_selection import train_test_split\n",
    "\n",
    "train_df, test_df = train_test_split(traindataframe, test_size=0.1, stratify=traindataframe['labels'], random_state=42)\n",
    "train_df, val_df = train_test_split(train_df, test_size=0.2, stratify=train_df['labels'], random_state=42)\n",
    "\n",
    "train_df, test_df, val_df"
   ]
  },
  {
   "cell_type": "markdown",
   "metadata": {},
   "source": [
    "# Generación de iteradores con ImageDataGenerator"
   ]
  },
  {
   "cell_type": "code",
   "execution_count": 55,
   "metadata": {},
   "outputs": [],
   "source": [
    "image_size = 224\n",
    "batch_size = 128\n",
    "n_classes = 7\n",
    "EPOCHS = 15"
   ]
  },
  {
   "cell_type": "code",
   "execution_count": 56,
   "metadata": {},
   "outputs": [
    {
     "name": "stdout",
     "output_type": "stream",
     "text": [
      "Found 42840 validated image filenames belonging to 7 classes.\n",
      "Found 10710 validated image filenames belonging to 7 classes.\n",
      "Found 5950 validated image filenames belonging to 7 classes.\n"
     ]
    }
   ],
   "source": [
    "\n",
    "\n",
    "train_datagen = ImageDataGenerator(rescale=1./255,\n",
    "                                    rotation_range=10,  # Rango de rotación más conservador\n",
    "                                    zoom_range=0.2,     # Rango de zoom más conservador\n",
    "                                    width_shift_range=0.2,  # Desplazamiento horizontal más conservador\n",
    "                                    height_shift_range=0.2,  # Desplazamiento vertical más conservador\n",
    "                                    shear_range=0.2,     # Variaciones en la inclinación facial más conservadoras\n",
    "                                    brightness_range=[0.8, 1.2],  # Cambios de brillo realistas\n",
    "                                    horizontal_flip=True,\n",
    "                                    vertical_flip=True,  # Volteo vertical aleatorio\n",
    "                                    fill_mode='nearest')  # Modo de relleno)\n",
    "\n",
    "#test_datagen=  ImageDataGenerator(rescale=1./255)\n",
    "\n",
    "val_datagen = ImageDataGenerator(rescale=1./255)\n",
    "\n",
    "test_datagen = ImageDataGenerator(rescale=1./255)\n",
    "\n",
    "\n",
    "train_generator = train_datagen.flow_from_dataframe(\n",
    "    train_df, #ubicación de train\n",
    "    x_col = 'filepath',\n",
    "    y_col = 'labels',\n",
    "    class_mode=\"categorical\",\n",
    "    batch_size=128,\n",
    "    #color_mode=\"grayscale\",\n",
    "    target_size=(image_size,image_size),\n",
    "    shuffle = True,\n",
    "    seed = 42\n",
    "\n",
    ")\n",
    "\n",
    "val_generator = val_datagen.flow_from_dataframe(\n",
    "    val_df,\n",
    "    x_col = 'filepath',\n",
    "    y_col = 'labels',\n",
    "    class_mode=\"categorical\",\n",
    "    batch_size=128,\n",
    "    #color_mode=\"grayscale\",\n",
    "    target_size=(image_size,image_size),\n",
    "    shuffle = False,\n",
    "    seed = 42\n",
    "    \n",
    ")\n",
    "\n",
    "test_generator = test_datagen.flow_from_dataframe(\n",
    "    test_df,\n",
    "    x_col = 'filepath',\n",
    "    y_col = 'labels',\n",
    "    class_mode=\"categorical\",\n",
    "    batch_size=128,\n",
    "    #color_mode=\"grayscale\",\n",
    "    target_size=(image_size,image_size),\n",
    "    shuffle = False,\n",
    "    seed = 42\n",
    ")"
   ]
  },
  {
   "cell_type": "markdown",
   "metadata": {},
   "source": [
    "# Definición de patches"
   ]
  },
  {
   "cell_type": "code",
   "execution_count": 22,
   "metadata": {},
   "outputs": [],
   "source": [
    "class Patches(L.Layer):\n",
    "    def __init__(self, patch_size):\n",
    "        super(Patches, self).__init__()\n",
    "        self.patch_size = patch_size\n",
    "\n",
    "    def call(self, images):\n",
    "        batch_size = tf.shape(images)[0]\n",
    "        patches = tf.image.extract_patches(\n",
    "            images = images,\n",
    "            sizes = [1, self.patch_size, self.patch_size, 1],\n",
    "            strides = [1, self.patch_size, self.patch_size, 1],\n",
    "            rates = [1, 1, 1, 1],\n",
    "            padding = 'VALID',\n",
    "        )\n",
    "        patch_dims = patches.shape[-1]\n",
    "        patches = tf.reshape(patches, [batch_size, -1, patch_dims])\n",
    "        return patches"
   ]
  },
  {
   "cell_type": "markdown",
   "metadata": {},
   "source": [
    "Aplicación de patches en la imágen"
   ]
  },
  {
   "cell_type": "code",
   "execution_count": 23,
   "metadata": {},
   "outputs": [
    {
     "name": "stdout",
     "output_type": "stream",
     "text": [
      "Image size: 224 X 224\n",
      "Patch size: 7 X 7\n",
      "Patches per image: 1024\n",
      "Elements per patch: 147\n"
     ]
    },
    {
     "data": {
      "image/png": "[encoded data removed]",
      "text/plain": [
       "<Figure size 400x400 with 1 Axes>"
      ]
     },
     "metadata": {},
     "output_type": "display_data"
    },
    {
     "data": {
      "image/png": "[encoded data removed]",
      "text/plain": [
       "<Figure size 400x400 with 1024 Axes>"
      ]
     },
     "metadata": {},
     "output_type": "display_data"
    }
   ],
   "source": [
    "plt.figure(figsize=(4, 4))\n",
    "batch_size = 16\n",
    "patch_size = 7  \n",
    "num_patches = (image_size // patch_size) ** 2\n",
    "\n",
    "x = train_generator.next()\n",
    "image = x[0][0]\n",
    "image = (image * 255).astype('uint8') # Escalar los valores de píxeles de 0-1 a 0-255\n",
    "\n",
    "plt.imshow(image.astype('uint8'))\n",
    "plt.axis('off')\n",
    "\n",
    "resized_image = tf.image.resize(\n",
    "    tf.convert_to_tensor([image]), size = (image_size, image_size)\n",
    ")\n",
    "\n",
    "patches = Patches(patch_size)(resized_image)\n",
    "print(f'Image size: {image_size} X {image_size}')\n",
    "print(f'Patch size: {patch_size} X {patch_size}')\n",
    "print(f'Patches per image: {patches.shape[1]}')\n",
    "print(f'Elements per patch: {patches.shape[-1]}')\n",
    "\n",
    "n = int(np.sqrt(patches.shape[1]))\n",
    "plt.figure(figsize=(4, 4))\n",
    "\n",
    "for i, patch in enumerate(patches[0]):\n",
    "    ax = plt.subplot(n, n, i + 1)\n",
    "    patch_img = tf.reshape(patch, (patch_size, patch_size, 3))\n",
    "    plt.imshow(patch_img.numpy().astype('uint8'))\n",
    "    plt.axis('off')"
   ]
  },
  {
   "cell_type": "markdown",
   "metadata": {},
   "source": [
    "# Creación y definición del modelo Transformers Vit/B16"
   ]
  },
  {
   "cell_type": "code",
   "execution_count": 70,
   "metadata": {},
   "outputs": [],
   "source": [
    "from vit_keras import vit\n",
    "\n",
    "vit_model = vit.vit_b16( #Definición del modelo vit_keras\n",
    "        image_size = image_size,\n",
    "        activation = 'softmax',\n",
    "        pretrained = True,\n",
    "        include_top = False,\n",
    "        pretrained_top = False,\n",
    "        classes = 7)"
   ]
  },
  {
   "cell_type": "code",
   "execution_count": 66,
   "metadata": {},
   "outputs": [
    {
     "name": "stdout",
     "output_type": "stream",
     "text": [
      "Model: \"vit-b16\"\n",
      "_________________________________________________________________\n",
      " Layer (type)                Output Shape              Param #   \n",
      "=================================================================\n",
      " input_4 (InputLayer)        [(None, 224, 224, 3)]     0         \n",
      "                                                                 \n",
      " embedding (Conv2D)          (None, 14, 14, 768)       590592    \n",
      "                                                                 \n",
      " reshape_3 (Reshape)         (None, 196, 768)          0         \n",
      "                                                                 \n",
      " class_token (ClassToken)    (None, 197, 768)          768       \n",
      "                                                                 \n",
      " Transformer/posembed_input   (None, 197, 768)         151296    \n",
      " (AddPositionEmbs)                                               \n",
      "                                                                 \n",
      " Transformer/encoderblock_0   ((None, 197, 768),       7087872   \n",
      " (TransformerBlock)           (None, 12, None, None))            \n",
      "                                                                 \n",
      " Transformer/encoderblock_1   ((None, 197, 768),       7087872   \n",
      " (TransformerBlock)           (None, 12, None, None))            \n",
      "                                                                 \n",
      " Transformer/encoderblock_2   ((None, 197, 768),       7087872   \n",
      " (TransformerBlock)           (None, 12, None, None))            \n",
      "                                                                 \n",
      " Transformer/encoderblock_3   ((None, 197, 768),       7087872   \n",
      " (TransformerBlock)           (None, 12, None, None))            \n",
      "                                                                 \n",
      " Transformer/encoderblock_4   ((None, 197, 768),       7087872   \n",
      " (TransformerBlock)           (None, 12, None, None))            \n",
      "                                                                 \n",
      " Transformer/encoderblock_5   ((None, 197, 768),       7087872   \n",
      " (TransformerBlock)           (None, 12, None, None))            \n",
      "                                                                 \n",
      " Transformer/encoderblock_6   ((None, 197, 768),       7087872   \n",
      " (TransformerBlock)           (None, 12, None, None))            \n",
      "                                                                 \n",
      " Transformer/encoderblock_7   ((None, 197, 768),       7087872   \n",
      " (TransformerBlock)           (None, 12, None, None))            \n",
      "                                                                 \n",
      " Transformer/encoderblock_8   ((None, 197, 768),       7087872   \n",
      " (TransformerBlock)           (None, 12, None, None))            \n",
      "                                                                 \n",
      " Transformer/encoderblock_9   ((None, 197, 768),       7087872   \n",
      " (TransformerBlock)           (None, 12, None, None))            \n",
      "                                                                 \n",
      " Transformer/encoderblock_10  ((None, 197, 768),       7087872   \n",
      "  (TransformerBlock)          (None, 12, None, None))            \n",
      "                                                                 \n",
      " Transformer/encoderblock_11  ((None, 197, 768),       7087872   \n",
      "  (TransformerBlock)          (None, 12, None, None))            \n",
      "                                                                 \n",
      " Transformer/encoder_norm (L  (None, 197, 768)         1536      \n",
      " ayerNormalization)                                              \n",
      "                                                                 \n",
      " ExtractToken (Lambda)       (None, 768)               0         \n",
      "                                                                 \n",
      "=================================================================\n",
      "Total params: 85,798,656\n",
      "Trainable params: 85,798,656\n",
      "Non-trainable params: 0\n",
      "_________________________________________________________________\n"
     ]
    }
   ],
   "source": [
    "vit_model.summary()"
   ]
  },
  {
   "cell_type": "code",
   "execution_count": 74,
   "metadata": {},
   "outputs": [
    {
     "name": "stdout",
     "output_type": "stream",
     "text": [
      "Model: \"vision_transformer\"\n",
      "_________________________________________________________________\n",
      " Layer (type)                Output Shape              Param #   \n",
      "=================================================================\n",
      " vit-b16 (Functional)        (None, 768)               85798656  \n",
      "                                                                 \n",
      " flatten_27 (Flatten)        (None, 768)               0         \n",
      "                                                                 \n",
      " batch_normalization_34 (Bat  (None, 768)              3072      \n",
      " chNormalization)                                                \n",
      "                                                                 \n",
      " dense_61 (Dense)            (None, 128)               98432     \n",
      "                                                                 \n",
      " batch_normalization_35 (Bat  (None, 128)              512       \n",
      " chNormalization)                                                \n",
      "                                                                 \n",
      " dense_62 (Dense)            (None, 64)                8256      \n",
      "                                                                 \n",
      " dense_63 (Dense)            (None, 32)                2080      \n",
      "                                                                 \n",
      " dense_64 (Dense)            (None, 7)                 231       \n",
      "                                                                 \n",
      "=================================================================\n",
      "Total params: 85,911,239\n",
      "Trainable params: 110,791\n",
      "Non-trainable params: 85,800,448\n",
      "_________________________________________________________________\n",
      "Model: \"vision_transformer\"\n",
      "_________________________________________________________________\n",
      " Layer (type)                Output Shape              Param #   \n",
      "=================================================================\n",
      " vit-b16 (Functional)        (None, 768)               85798656  \n",
      "                                                                 \n",
      " flatten_27 (Flatten)        (None, 768)               0         \n",
      "                                                                 \n",
      " batch_normalization_34 (Bat  (None, 768)              3072      \n",
      " chNormalization)                                                \n",
      "                                                                 \n",
      " dense_61 (Dense)            (None, 128)               98432     \n",
      "                                                                 \n",
      " batch_normalization_35 (Bat  (None, 128)              512       \n",
      " chNormalization)                                                \n",
      "                                                                 \n",
      " dense_62 (Dense)            (None, 64)                8256      \n",
      "                                                                 \n",
      " dense_63 (Dense)            (None, 32)                2080      \n",
      "                                                                 \n",
      " dense_64 (Dense)            (None, 7)                 231       \n",
      "                                                                 \n",
      "=================================================================\n",
      "Total params: 85,911,239\n",
      "Trainable params: 110,791\n",
      "Non-trainable params: 85,800,448\n",
      "_________________________________________________________________\n"
     ]
    }
   ],
   "source": [
    "# Congelar los pesos del modelo ViT\n",
    "for layer in vit_model.layers:\n",
    "    layer.trainable = False\n",
    "\n",
    "#Definición del modelo vit_keras + Fine-Tuning\n",
    "model = tf.keras.Sequential([\n",
    "        vit_model,\n",
    "        tf.keras.layers.Flatten(),\n",
    "        tf.keras.layers.BatchNormalization(),\n",
    "        tf.keras.layers.Dense(128, activation = \"relu\"),\n",
    "        tf.keras.layers.BatchNormalization(),\n",
    "        tf.keras.layers.Dense(64, activation = \"relu\"),\n",
    "        tf.keras.layers.Dense(32, activation = \"relu\"),\n",
    "        tf.keras.layers.Dense(7, 'softmax')\n",
    "    ],\n",
    "    name = 'vision_transformer')\n",
    "\n",
    "model.summary()\n",
    "\n",
    "model.compile(optimizer = \"adam\", \n",
    "              loss = \"categorical_crossentropy\", \n",
    "              metrics = ['accuracy'])\n",
    "\n",
    "\n",
    "model.summary()"
   ]
  },
  {
   "cell_type": "code",
   "execution_count": 75,
   "metadata": {},
   "outputs": [],
   "source": [
    "os.makedirs('models/ModelTransformer/', exist_ok=True)\n",
    "\n",
    "\n",
    "checkpoint_path = 'models/ModelTransformer/best_model_ModelVIt_{epoch}_{val_accuracy:.4f}.h5'\n",
    "\n",
    "# Callback de ModelCheckpoint\n",
    "model_checkpoint = ModelCheckpoint(\n",
    "    checkpoint_path,\n",
    "    monitor='val_accuracy',  \n",
    "    save_best_only=True,      \n",
    "    mode='max',               \n",
    "    verbose=1                 \n",
    ")\n",
    "early_stopping = EarlyStopping(monitor='val_loss', patience=15, restore_best_weights=True)\n"
   ]
  },
  {
   "cell_type": "code",
   "execution_count": 76,
   "metadata": {},
   "outputs": [
    {
     "name": "stdout",
     "output_type": "stream",
     "text": [
      "Epoch 1/25\n",
      "335/335 [==============================] - ETA: 0s - loss: 1.5668 - accuracy: 0.3977\n",
      "Epoch 1: val_accuracy improved from -inf to 0.48067, saving model to models/ModelTransformer\\best_model_ModelVIt_1_0.4807.h5\n",
      "335/335 [==============================] - 982s 3s/step - loss: 1.5668 - accuracy: 0.3977 - val_loss: 1.3579 - val_accuracy: 0.4807\n",
      "Epoch 2/25\n",
      "335/335 [==============================] - ETA: 0s - loss: 1.4360 - accuracy: 0.4500\n",
      "Epoch 2: val_accuracy improved from 0.48067 to 0.50915, saving model to models/ModelTransformer\\best_model_ModelVIt_2_0.5092.h5\n",
      "335/335 [==============================] - 921s 3s/step - loss: 1.4360 - accuracy: 0.4500 - val_loss: 1.2986 - val_accuracy: 0.5092\n",
      "Epoch 3/25\n",
      "335/335 [==============================] - ETA: 0s - loss: 1.3969 - accuracy: 0.4646\n",
      "Epoch 3: val_accuracy improved from 0.50915 to 0.51261, saving model to models/ModelTransformer\\best_model_ModelVIt_3_0.5126.h5\n",
      "335/335 [==============================] - 921s 3s/step - loss: 1.3969 - accuracy: 0.4646 - val_loss: 1.2813 - val_accuracy: 0.5126\n",
      "Epoch 4/25\n",
      "335/335 [==============================] - ETA: 0s - loss: 1.3737 - accuracy: 0.4756\n",
      "Epoch 4: val_accuracy improved from 0.51261 to 0.52530, saving model to models/ModelTransformer\\best_model_ModelVIt_4_0.5253.h5\n",
      "335/335 [==============================] - 922s 3s/step - loss: 1.3737 - accuracy: 0.4756 - val_loss: 1.2581 - val_accuracy: 0.5253\n",
      "Epoch 5/25\n",
      "335/335 [==============================] - ETA: 0s - loss: 1.3575 - accuracy: 0.4824\n",
      "Epoch 5: val_accuracy improved from 0.52530 to 0.53025, saving model to models/ModelTransformer\\best_model_ModelVIt_5_0.5303.h5\n",
      "335/335 [==============================] - 920s 3s/step - loss: 1.3575 - accuracy: 0.4824 - val_loss: 1.2471 - val_accuracy: 0.5303\n",
      "Epoch 6/25\n",
      "335/335 [==============================] - ETA: 0s - loss: 1.3459 - accuracy: 0.4861\n",
      "Epoch 6: val_accuracy did not improve from 0.53025\n",
      "335/335 [==============================] - 934s 3s/step - loss: 1.3459 - accuracy: 0.4861 - val_loss: 1.2703 - val_accuracy: 0.5244\n",
      "Epoch 7/25\n",
      "335/335 [==============================] - ETA: 0s - loss: 1.3384 - accuracy: 0.4897\n",
      "Epoch 7: val_accuracy improved from 0.53025 to 0.53296, saving model to models/ModelTransformer\\best_model_ModelVIt_7_0.5330.h5\n",
      "335/335 [==============================] - 966s 3s/step - loss: 1.3384 - accuracy: 0.4897 - val_loss: 1.2341 - val_accuracy: 0.5330\n",
      "Epoch 8/25\n",
      "335/335 [==============================] - ETA: 0s - loss: 1.3279 - accuracy: 0.4938\n",
      "Epoch 8: val_accuracy did not improve from 0.53296\n",
      "335/335 [==============================] - 918s 3s/step - loss: 1.3279 - accuracy: 0.4938 - val_loss: 1.2429 - val_accuracy: 0.5305\n",
      "Epoch 9/25\n",
      "335/335 [==============================] - ETA: 0s - loss: 1.3173 - accuracy: 0.5003\n",
      "Epoch 9: val_accuracy improved from 0.53296 to 0.54192, saving model to models/ModelTransformer\\best_model_ModelVIt_9_0.5419.h5\n",
      "335/335 [==============================] - 922s 3s/step - loss: 1.3173 - accuracy: 0.5003 - val_loss: 1.2114 - val_accuracy: 0.5419\n",
      "Epoch 10/25\n",
      "335/335 [==============================] - ETA: 0s - loss: 1.3129 - accuracy: 0.4982\n",
      "Epoch 10: val_accuracy improved from 0.54192 to 0.54444, saving model to models/ModelTransformer\\best_model_ModelVIt_10_0.5444.h5\n",
      "335/335 [==============================] - 916s 3s/step - loss: 1.3129 - accuracy: 0.4982 - val_loss: 1.2101 - val_accuracy: 0.5444\n",
      "Epoch 11/25\n",
      "335/335 [==============================] - ETA: 0s - loss: 1.3096 - accuracy: 0.5005\n",
      "Epoch 11: val_accuracy improved from 0.54444 to 0.55089, saving model to models/ModelTransformer\\best_model_ModelVIt_11_0.5509.h5\n",
      "335/335 [==============================] - 917s 3s/step - loss: 1.3096 - accuracy: 0.5005 - val_loss: 1.2003 - val_accuracy: 0.5509\n",
      "Epoch 12/25\n",
      "335/335 [==============================] - ETA: 0s - loss: 1.3009 - accuracy: 0.5036\n",
      "Epoch 12: val_accuracy did not improve from 0.55089\n",
      "335/335 [==============================] - 916s 3s/step - loss: 1.3009 - accuracy: 0.5036 - val_loss: 1.2009 - val_accuracy: 0.5505\n",
      "Epoch 13/25\n",
      "335/335 [==============================] - ETA: 0s - loss: 1.2948 - accuracy: 0.5054\n",
      "Epoch 13: val_accuracy did not improve from 0.55089\n",
      "335/335 [==============================] - 962s 3s/step - loss: 1.2948 - accuracy: 0.5054 - val_loss: 1.2018 - val_accuracy: 0.5493\n",
      "Epoch 14/25\n",
      "335/335 [==============================] - ETA: 0s - loss: 1.2888 - accuracy: 0.5096\n",
      "Epoch 14: val_accuracy improved from 0.55089 to 0.55528, saving model to models/ModelTransformer\\best_model_ModelVIt_14_0.5553.h5\n",
      "335/335 [==============================] - 991s 3s/step - loss: 1.2888 - accuracy: 0.5096 - val_loss: 1.1915 - val_accuracy: 0.5553\n",
      "Epoch 15/25\n",
      "335/335 [==============================] - ETA: 0s - loss: 1.2859 - accuracy: 0.5092\n",
      "Epoch 15: val_accuracy did not improve from 0.55528\n",
      "335/335 [==============================] - 966s 3s/step - loss: 1.2859 - accuracy: 0.5092 - val_loss: 1.1906 - val_accuracy: 0.5520\n",
      "Epoch 16/25\n",
      "335/335 [==============================] - ETA: 0s - loss: 1.2787 - accuracy: 0.5112\n",
      "Epoch 16: val_accuracy did not improve from 0.55528\n",
      "335/335 [==============================] - 946s 3s/step - loss: 1.2787 - accuracy: 0.5112 - val_loss: 1.1864 - val_accuracy: 0.5515\n",
      "Epoch 17/25\n",
      "335/335 [==============================] - ETA: 0s - loss: 1.2780 - accuracy: 0.5143\n",
      "Epoch 17: val_accuracy did not improve from 0.55528\n",
      "335/335 [==============================] - 919s 3s/step - loss: 1.2780 - accuracy: 0.5143 - val_loss: 1.1950 - val_accuracy: 0.5499\n",
      "Epoch 18/25\n",
      "335/335 [==============================] - ETA: 0s - loss: 1.2770 - accuracy: 0.5158\n",
      "Epoch 18: val_accuracy improved from 0.55528 to 0.55640, saving model to models/ModelTransformer\\best_model_ModelVIt_18_0.5564.h5\n",
      "335/335 [==============================] - 921s 3s/step - loss: 1.2770 - accuracy: 0.5158 - val_loss: 1.1680 - val_accuracy: 0.5564\n",
      "Epoch 19/25\n",
      "335/335 [==============================] - ETA: 0s - loss: 1.2686 - accuracy: 0.5168\n",
      "Epoch 19: val_accuracy improved from 0.55640 to 0.55920, saving model to models/ModelTransformer\\best_model_ModelVIt_19_0.5592.h5\n",
      "335/335 [==============================] - 917s 3s/step - loss: 1.2686 - accuracy: 0.5168 - val_loss: 1.1670 - val_accuracy: 0.5592\n",
      "Epoch 20/25\n",
      "335/335 [==============================] - ETA: 0s - loss: 1.2655 - accuracy: 0.5197\n",
      "Epoch 20: val_accuracy did not improve from 0.55920\n",
      "335/335 [==============================] - 918s 3s/step - loss: 1.2655 - accuracy: 0.5197 - val_loss: 1.1902 - val_accuracy: 0.5528\n",
      "Epoch 21/25\n",
      "335/335 [==============================] - ETA: 0s - loss: 1.2652 - accuracy: 0.5187\n",
      "Epoch 21: val_accuracy did not improve from 0.55920\n",
      "335/335 [==============================] - 920s 3s/step - loss: 1.2652 - accuracy: 0.5187 - val_loss: 1.1916 - val_accuracy: 0.5520\n",
      "Epoch 22/25\n",
      "335/335 [==============================] - ETA: 0s - loss: 1.2629 - accuracy: 0.5192\n",
      "Epoch 22: val_accuracy did not improve from 0.55920\n",
      "335/335 [==============================] - 915s 3s/step - loss: 1.2629 - accuracy: 0.5192 - val_loss: 1.1621 - val_accuracy: 0.5587\n",
      "Epoch 23/25\n",
      "335/335 [==============================] - ETA: 0s - loss: 1.2567 - accuracy: 0.5222\n",
      "Epoch 23: val_accuracy did not improve from 0.55920\n",
      "335/335 [==============================] - 916s 3s/step - loss: 1.2567 - accuracy: 0.5222 - val_loss: 1.1831 - val_accuracy: 0.5562\n",
      "Epoch 24/25\n",
      "335/335 [==============================] - ETA: 0s - loss: 1.2569 - accuracy: 0.5218\n",
      "Epoch 24: val_accuracy did not improve from 0.55920\n",
      "335/335 [==============================] - 916s 3s/step - loss: 1.2569 - accuracy: 0.5218 - val_loss: 1.1676 - val_accuracy: 0.5576\n",
      "Epoch 25/25\n",
      "335/335 [==============================] - ETA: 0s - loss: 1.2506 - accuracy: 0.5254\n",
      "Epoch 25: val_accuracy improved from 0.55920 to 0.55957, saving model to models/ModelTransformer\\best_model_ModelVIt_25_0.5596.h5\n",
      "335/335 [==============================] - 934s 3s/step - loss: 1.2506 - accuracy: 0.5254 - val_loss: 1.1711 - val_accuracy: 0.5596\n"
     ]
    }
   ],
   "source": [
    "historyVit = model.fit(x = train_generator,\n",
    "          steps_per_epoch = len(train_generator),\n",
    "          validation_data = val_generator,\n",
    "          epochs = 25,\n",
    "          callbacks = [early_stopping, model_checkpoint])"
   ]
  },
  {
   "cell_type": "code",
   "execution_count": 77,
   "metadata": {},
   "outputs": [
    {
     "data": {
      "image/png": "[encoded data removed]",
      "text/plain": [
       "<Figure size 1200x400 with 2 Axes>"
      ]
     },
     "metadata": {},
     "output_type": "display_data"
    }
   ],
   "source": [
    "import matplotlib.pyplot as plt\n",
    "\n",
    "\n",
    "accuracy = historyVit.history['accuracy']\n",
    "loss = historyVit.history['loss']\n",
    "val_accuracy = historyVit.history['val_accuracy']\n",
    "val_loss = historyVit.history['val_loss']\n",
    "\n",
    "\n",
    "plt.figure(figsize=(12, 4))\n",
    "\n",
    "plt.subplot(1, 2, 1)\n",
    "plt.plot(accuracy, label='Training Accuracy')\n",
    "plt.plot(val_accuracy, label='Validation Accuracy')\n",
    "plt.xlabel('Epoch')\n",
    "plt.ylabel('Accuracy')\n",
    "plt.title('Training and Validation Accuracy')\n",
    "plt.legend()\n",
    "\n",
    "\n",
    "plt.subplot(1, 2, 2)\n",
    "plt.plot(loss, label='Training Loss')\n",
    "plt.plot(val_loss, label='Validation Loss')\n",
    "plt.xlabel('Epoch')\n",
    "plt.ylabel('Loss')\n",
    "plt.title('Training and Validation Loss')\n",
    "plt.legend()\n",
    "\n",
    "plt.tight_layout()\n",
    "plt.show()"
   ]
  },
  {
   "cell_type": "code",
   "execution_count": 79,
   "metadata": {},
   "outputs": [
    {
     "name": "stdout",
     "output_type": "stream",
     "text": [
      "47/47 [==============================] - 53s 1s/step\n",
      "              precision    recall  f1-score   support\n",
      "\n",
      "           0       0.39      0.41      0.40       850\n",
      "           1       0.73      0.82      0.77       850\n",
      "           2       0.44      0.26      0.33       850\n",
      "           3       0.73      0.73      0.73       850\n",
      "           4       0.45      0.59      0.51       850\n",
      "           5       0.49      0.27      0.35       850\n",
      "           6       0.58      0.80      0.68       850\n",
      "\n",
      "    accuracy                           0.56      5950\n",
      "   macro avg       0.55      0.56      0.54      5950\n",
      "weighted avg       0.55      0.56      0.54      5950\n",
      "\n"
     ]
    }
   ],
   "source": [
    "predicted_classes = np.argmax(model.predict(test_generator, steps = test_generator.n // test_generator.batch_size + 1), axis = 1)\n",
    "true_classes = test_generator.classes\n",
    "class_labels = list(test_generator.class_indices.keys())  \n",
    "\n",
    "\n",
    "print(classification_report(true_classes, predicted_classes))"
   ]
  }
 ],
 "metadata": {
  "kernelspec": {
   "display_name": "gpuTensorflow",
   "language": "python",
   "name": "python3"
  },
  "language_info": {
   "codemirror_mode": {
    "name": "ipython",
    "version": 3
   },
   "file_extension": ".py",
   "mimetype": "text/x-python",
   "name": "python",
   "nbconvert_exporter": "python",
   "pygments_lexer": "ipython3",
   "version": "3.10.13"
  }
 },
 "nbformat": 4,
 "nbformat_minor": 2
}
