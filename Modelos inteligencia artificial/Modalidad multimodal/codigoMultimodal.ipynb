{
 "cells": [
  {
   "cell_type": "code",
   "execution_count": null,
   "metadata": {},
   "outputs": [],
   "source": [
    "from keras.models import Model, load_model\n",
    "from keras.layers import concatenate, Dense\n",
    "\n",
    "\n",
    "#modelCnn = load_model('')\n",
    "#modelBert = load_model('')\n",
    "\n",
    "for layer in modelCnn.layers:\n",
    "    layer.trainable = False\n",
    "\n",
    "for layer in modelBert.layers:\n",
    "    layer.trainable = False\n",
    "\n",
    "featuresCnn = modelCnn.layers[-2].output\n",
    "featuresBert = modelBert.layers[-2].output\n",
    "\n",
    "combined = concatenate([featuresCnn, featuresBert])\n",
    "\n",
    "output = Dense(7, activation='softmax')(combined)\n",
    "\n",
    "model = Model(inputs=[modelCnn.input, modelBert.input], outputs=output)\n",
    "\n",
    "model.compile(optimizer='adam', loss='categorical_crossentropy', metrics=['accuracy'])\n"
   ]
  }
 ],
 "metadata": {
  "language_info": {
   "name": "python"
  }
 },
 "nbformat": 4,
 "nbformat_minor": 2
}
